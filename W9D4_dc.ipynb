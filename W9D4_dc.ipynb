{
  "metadata": {
    "kernelspec": {
      "language": "python",
      "display_name": "Python 3",
      "name": "python3"
    },
    "language_info": {
      "pygments_lexer": "ipython3",
      "nbconvert_exporter": "python",
      "version": "3.6.4",
      "file_extension": ".py",
      "codemirror_mode": {
        "name": "ipython",
        "version": 3
      },
      "name": "python",
      "mimetype": "text/x-python"
    },
    "kaggle": {
      "accelerator": "none",
      "dataSources": [
        {
          "sourceId": 4213024,
          "sourceType": "datasetVersion",
          "datasetId": 2479030
        }
      ],
      "dockerImageVersionId": 30558,
      "isInternetEnabled": false,
      "language": "python",
      "sourceType": "notebook",
      "isGpuEnabled": false
    },
    "colab": {
      "provenance": [],
      "include_colab_link": true
    }
  },
  "nbformat_minor": 0,
  "nbformat": 4,
  "cells": [
    {
      "cell_type": "markdown",
      "metadata": {
        "id": "view-in-github",
        "colab_type": "text"
      },
      "source": [
        "<a href=\"https://colab.research.google.com/github/alexanderluzhkov/di-Bootcamp/blob/main/W9D4_dc.ipynb\" target=\"_parent\"><img src=\"https://colab.research.google.com/assets/colab-badge.svg\" alt=\"Open In Colab\"/></a>"
      ]
    },
    {
      "cell_type": "code",
      "source": [
        "import numpy as np\n",
        "import pandas as pd\n",
        "import matplotlib.pyplot as plt\n",
        "import seaborn as sns\n",
        "import itertools\n",
        "import statsmodels.stats.api as sms\n",
        "from scipy.stats import (ttest_1samp, shapiro, levene, ttest_ind, mannwhitneyu,\n",
        "                         pearsonr, spearmanr, kendalltau, f_oneway, kruskal)\n",
        "from statsmodels.stats.proportion import proportions_ztest\n",
        "from statsmodels.stats.multicomp import MultiComparison\n"
      ],
      "metadata": {
        "_uuid": "8f2839f25d086af736a60e9eeb907d3b93b6e0e5",
        "_cell_guid": "b1076dfc-b9ad-4769-8c92-a6c4dae69d19",
        "execution": {
          "iopub.status.busy": "2023-11-06T18:15:49.893535Z",
          "iopub.execute_input": "2023-11-06T18:15:49.894197Z",
          "iopub.status.idle": "2023-11-06T18:15:49.925697Z",
          "shell.execute_reply.started": "2023-11-06T18:15:49.894137Z",
          "shell.execute_reply": "2023-11-06T18:15:49.924613Z"
        },
        "trusted": true,
        "id": "NxVVGK3Ervuh"
      },
      "execution_count": null,
      "outputs": []
    },
    {
      "cell_type": "code",
      "source": [
        "# TODO : Import the Data from the kaggle API"
      ],
      "metadata": {
        "id": "3tOTF5-JoVbY"
      },
      "execution_count": null,
      "outputs": []
    },
    {
      "cell_type": "markdown",
      "source": [
        "# Data Understanding"
      ],
      "metadata": {
        "id": "x4TkAvmHrvuk"
      }
    },
    {
      "cell_type": "code",
      "source": [
        "#TODO : compute the following : DataFrame Information, Columns in DataFrame, Counting Missing Values, Descriptive Statistics, Value Counts for VARIANT_NAME, Counting Unique Users in USER_ID"
      ],
      "metadata": {
        "execution": {
          "iopub.status.busy": "2023-11-06T18:17:34.663181Z",
          "iopub.execute_input": "2023-11-06T18:17:34.663604Z",
          "iopub.status.idle": "2023-11-06T18:17:34.698452Z",
          "shell.execute_reply.started": "2023-11-06T18:17:34.66357Z",
          "shell.execute_reply": "2023-11-06T18:17:34.697253Z"
        },
        "trusted": true,
        "id": "4hquSCDYrvun"
      },
      "execution_count": null,
      "outputs": []
    },
    {
      "cell_type": "markdown",
      "source": [
        "# Average Revenue by VARIANT_NAME"
      ],
      "metadata": {
        "id": "1UJ0wnvyrvup"
      }
    },
    {
      "cell_type": "code",
      "source": [
        "#TODO"
      ],
      "metadata": {
        "execution": {
          "iopub.status.busy": "2023-11-06T18:18:57.601805Z",
          "iopub.execute_input": "2023-11-06T18:18:57.602256Z",
          "iopub.status.idle": "2023-11-06T18:18:57.619241Z",
          "shell.execute_reply.started": "2023-11-06T18:18:57.602219Z",
          "shell.execute_reply": "2023-11-06T18:18:57.618008Z"
        },
        "trusted": true,
        "id": "FEl4TOdKrvuq"
      },
      "execution_count": null,
      "outputs": []
    },
    {
      "cell_type": "markdown",
      "source": [
        "What if H0: M1 = M2 ?\n",
        "What about H1: M1 1= M2 ?"
      ],
      "metadata": {
        "id": "VI4aeoclrvur"
      }
    },
    {
      "cell_type": "markdown",
      "source": [
        "# Assumptions Control:\n",
        "*# 1- Normality Assumptions*\n",
        "*# 2- Homogeneity of Variances Assumption*"
      ],
      "metadata": {
        "id": "9nwdJ5OPrvus"
      }
    },
    {
      "cell_type": "code",
      "source": [
        "# TODO : test the normality of revenue data in two groups (variant and control) within your DataFrame df using the Shapiro-Wilk test, what can you conclude ?"
      ],
      "metadata": {
        "execution": {
          "iopub.status.busy": "2023-11-06T18:33:49.418255Z",
          "iopub.execute_input": "2023-11-06T18:33:49.419188Z",
          "iopub.status.idle": "2023-11-06T18:33:49.439409Z",
          "shell.execute_reply.started": "2023-11-06T18:33:49.41913Z",
          "shell.execute_reply": "2023-11-06T18:33:49.438008Z"
        },
        "trusted": true,
        "id": "TT2sJwFprvut"
      },
      "execution_count": null,
      "outputs": []
    },
    {
      "cell_type": "code",
      "source": [
        "# TODO : test for the homogeneity of variances between two groups (variant and control) within your DataFrame df using the Levene's test,  what can you conclude ?"
      ],
      "metadata": {
        "execution": {
          "iopub.status.busy": "2023-11-06T18:36:19.230691Z",
          "iopub.execute_input": "2023-11-06T18:36:19.231134Z",
          "iopub.status.idle": "2023-11-06T18:36:19.251023Z",
          "shell.execute_reply.started": "2023-11-06T18:36:19.231103Z",
          "shell.execute_reply": "2023-11-06T18:36:19.249467Z"
        },
        "trusted": true,
        "id": "n_X3_fU2rvuv"
      },
      "execution_count": null,
      "outputs": []
    },
    {
      "cell_type": "markdown",
      "source": [
        "# Non-Parametric Test (mannwhitneyu Test)"
      ],
      "metadata": {
        "id": "thz0Mml0rvuw"
      }
    },
    {
      "cell_type": "code",
      "source": [
        "# TODO : perform the Mann-Whitney U test for comparing the average revenue between the variant and control groups in your DataFrame, what can you conclude ?"
      ],
      "metadata": {
        "execution": {
          "iopub.status.busy": "2023-11-06T18:38:28.694822Z",
          "iopub.execute_input": "2023-11-06T18:38:28.695244Z",
          "iopub.status.idle": "2023-11-06T18:38:28.727682Z",
          "shell.execute_reply.started": "2023-11-06T18:38:28.695212Z",
          "shell.execute_reply": "2023-11-06T18:38:28.726189Z"
        },
        "trusted": true,
        "id": "HGcWTyuUrvuw"
      },
      "execution_count": null,
      "outputs": []
    },
    {
      "cell_type": "code",
      "source": [
        "# TODO : create a bar plot showing the average revenues by variant names using the seaborn library"
      ],
      "metadata": {
        "execution": {
          "iopub.status.busy": "2023-11-06T18:45:29.181657Z",
          "iopub.execute_input": "2023-11-06T18:45:29.18208Z",
          "iopub.status.idle": "2023-11-06T18:45:29.640026Z",
          "shell.execute_reply.started": "2023-11-06T18:45:29.182049Z",
          "shell.execute_reply": "2023-11-06T18:45:29.638846Z"
        },
        "trusted": true,
        "id": "jtjQGGsDrvux"
      },
      "execution_count": null,
      "outputs": []
    }
  ]
}